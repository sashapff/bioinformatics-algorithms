{
  "nbformat": 4,
  "nbformat_minor": 0,
  "metadata": {
    "colab": {
      "name": "global_affine_penalty.ipynb",
      "provenance": [],
      "collapsed_sections": [],
      "authorship_tag": "ABX9TyPYQMPNC5BBnKuMJah//5WZ",
      "include_colab_link": true
    },
    "kernelspec": {
      "name": "python3",
      "display_name": "Python 3"
    }
  },
  "cells": [
    {
      "cell_type": "markdown",
      "metadata": {
        "id": "view-in-github",
        "colab_type": "text"
      },
      "source": [
        "<a href=\"https://colab.research.google.com/github/sashapff/bioinformatics-algorithms/blob/master/alignment/global_affine_penalty.ipynb\" target=\"_parent\"><img src=\"https://colab.research.google.com/assets/colab-badge.svg\" alt=\"Open In Colab\"/></a>"
      ]
    },
    {
      "cell_type": "code",
      "metadata": {
        "id": "lcgMYnxLjXwy"
      },
      "source": [
        "vinf = -10**10"
      ],
      "execution_count": 230,
      "outputs": []
    },
    {
      "cell_type": "code",
      "metadata": {
        "id": "zaodAnGme2r4"
      },
      "source": [
        "def max_up(left, diag, up, i, j, open_gap_penalty, continue_gap_penalty):\n",
        "  if up[i - 1][j][0] - continue_gap_penalty > diag[i - 1][j][0] - open_gap_penalty - continue_gap_penalty:\n",
        "    return (up[i - 1][j][0] - continue_gap_penalty, -1, 0, \"up\")\n",
        "  else:\n",
        "    return (diag[i - 1][j][0] - open_gap_penalty - continue_gap_penalty, -1, 0, \"diag\")"
      ],
      "execution_count": 303,
      "outputs": []
    },
    {
      "cell_type": "code",
      "metadata": {
        "id": "5L7r14AXgYK7"
      },
      "source": [
        "def max_left(left, diag, up, i, j, open_gap_penalty, continue_gap_penalty):\n",
        "  if left[i][j - 1][0] - continue_gap_penalty > diag[i][j - 1][0] - open_gap_penalty - continue_gap_penalty:\n",
        "    return (left[i][j - 1][0] - continue_gap_penalty, 0, -1, \"left\")\n",
        "  else:\n",
        "    return (diag[i][j - 1][0] - open_gap_penalty - continue_gap_penalty, 0, -1, \"diag\")"
      ],
      "execution_count": 304,
      "outputs": []
    },
    {
      "cell_type": "code",
      "metadata": {
        "id": "gy3X04HhgxIX"
      },
      "source": [
        "def max_diag(left, diag, up, seq1, seq2, i, j, weight_match, weight_mismatch, open_gap_penalty, continue_gap_penalty):\n",
        "  if seq1[i - 1] == seq2[j - 1]:\n",
        "    match = weight_match\n",
        "  else:\n",
        "    match = -weight_mismatch \n",
        "  if (i == 0) and (j == 0):\n",
        "    return (0, \"start\", \"start\")\n",
        "  if (i > 0) and (j > 0) and (diag[i - 1][j - 1][0] + match > up[i][j][0]) and (diag[i - 1][j - 1][0] + match > left[i][j][0]):\n",
        "    return (diag[i - 1][j - 1][0] + match, -1, -1, \"diag\")\n",
        "  elif up[i][j][0] > left[i][j][0]:\n",
        "    return (up[i][j][0], 0, 0, \"up\")\n",
        "  else:\n",
        "    return (left[i][j][0], 0, 0, \"left\")"
      ],
      "execution_count": 305,
      "outputs": []
    },
    {
      "cell_type": "code",
      "metadata": {
        "id": "JnU2f-I4cmMC"
      },
      "source": [
        "def build_matrixes(seq1, seq2, weight_match, weight_mismatch, open_gap_penalty, continue_gap_penalty):\n",
        "  n = len(seq1) + 1\n",
        "  m = len(seq2) + 1\n",
        "  left, diag, up = [[(vinf, \"\") for j in range(m)] for i in range(n)], [[(vinf, \"\") for j in range(m)] for i in range(n)], [[(vinf, \"\") for j in range(m)] for i in range(n)]\n",
        "  for i in range(n):\n",
        "    for j in range(m):\n",
        "      if i > 0:\n",
        "        up[i][j] = max_up(left, diag, up, i, j, open_gap_penalty, continue_gap_penalty)\n",
        "      if j > 0:\n",
        "        left[i][j] = max_left(left, diag, up, i, j, open_gap_penalty, continue_gap_penalty)\n",
        "      diag[i][j] = max_diag(left, diag, up, seq1, seq2, i, j, weight_match, weight_mismatch, open_gap_penalty, continue_gap_penalty)\n",
        "  return (left, diag, up)"
      ],
      "execution_count": 306,
      "outputs": []
    },
    {
      "cell_type": "code",
      "metadata": {
        "id": "5ZIGpM60oA45"
      },
      "source": [
        "def find_path(seq1, seq2, left, diag, up):\n",
        "  n = len(seq1) + 1\n",
        "  m = len(seq2) + 1\n",
        "  i = n - 1\n",
        "  j = m - 1\n",
        "  if (left[-1][-1][0] > up[-1][-1][0]) and (left[-1][-1][0] > diag[-1][-1][0]):\n",
        "    next = \"left\"\n",
        "  elif up[-1][-1][0] > diag[-1][-1][0]:\n",
        "    next = \"up\"\n",
        "  else:\n",
        "    next = \"diag\"\n",
        "  ans1, ans2 = \"\", \"\"\n",
        "  while not((i == 0) and (j == 0)):\n",
        "    if next == \"diag\":\n",
        "      di, dj, next = diag[i][j][1:]\n",
        "    elif next == \"up\":\n",
        "      di, dj, next = up[i][j][1:]\n",
        "    else:\n",
        "      di, dj, next = left[i][j][1:]\n",
        "\n",
        "    if di == -1:\n",
        "      ans1 += seq1[i - 1]\n",
        "      i -= 1\n",
        "    elif dj == -1:\n",
        "      ans1 += \"_\"\n",
        "    if dj == -1:\n",
        "      ans2 += seq2[j - 1]\n",
        "      j -= 1\n",
        "    elif di == -1:\n",
        "      ans2 += \"_\"\n",
        "  ans1 = ans1[::-1]\n",
        "  ans2 = ans2[::-1]\n",
        "  return (ans1, ans2)"
      ],
      "execution_count": 315,
      "outputs": []
    },
    {
      "cell_type": "code",
      "metadata": {
        "id": "n4_7tPnATpWR"
      },
      "source": [
        "def affine_gap_alignment(seq1, seq2, weight_match, weight_mismatch, open_gap_penalty, continue_gap_penalty):\n",
        "  left, diag, up = build_matrixes(seq1, seq2, weight_match, weight_mismatch, open_gap_penalty, continue_gap_penalty)\n",
        "  return find_path(seq1, seq2, left, diag, up)\n"
      ],
      "execution_count": 308,
      "outputs": []
    },
    {
      "cell_type": "code",
      "metadata": {
        "id": "eQZLzlICajWu",
        "outputId": "d852e750-2c64-4de1-c80e-622ecc04afac",
        "colab": {
          "base_uri": "https://localhost:8080/",
          "height": 34
        }
      },
      "source": [
        "affine_gap_alignment(\"GAACATGCAAB\", \"CATTGTAACB\", 3, 1, 0, 1)"
      ],
      "execution_count": 342,
      "outputs": [
        {
          "output_type": "execute_result",
          "data": {
            "text/plain": [
              "('GAACAT_GCAA_B', '___CATTGTAACB')"
            ]
          },
          "metadata": {
            "tags": []
          },
          "execution_count": 342
        }
      ]
    },
    {
      "cell_type": "code",
      "metadata": {
        "id": "nfuT3eRnHopR",
        "outputId": "ba9478d7-e5ee-4e42-e969-0cdac9da050f",
        "colab": {
          "base_uri": "https://localhost:8080/",
          "height": 34
        }
      },
      "source": [
        "affine_gap_alignment(\"GAACATGCAAB\", \"CATTGTAACB\", 3, 1, 4, 2)"
      ],
      "execution_count": 341,
      "outputs": [
        {
          "output_type": "execute_result",
          "data": {
            "text/plain": [
              "('GAACATGCAA_B', 'CAT__TGTAACB')"
            ]
          },
          "metadata": {
            "tags": []
          },
          "execution_count": 341
        }
      ]
    }
  ]
}