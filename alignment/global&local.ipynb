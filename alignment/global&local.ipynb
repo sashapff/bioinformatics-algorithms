{
  "nbformat": 4,
  "nbformat_minor": 0,
  "metadata": {
    "colab": {
      "name": "global&local.ipynb",
      "provenance": [],
      "collapsed_sections": [],
      "authorship_tag": "ABX9TyO8ANzMOatZZntlK6cKQIF0",
      "include_colab_link": true
    },
    "kernelspec": {
      "name": "python3",
      "display_name": "Python 3"
    }
  },
  "cells": [
    {
      "cell_type": "markdown",
      "metadata": {
        "id": "view-in-github",
        "colab_type": "text"
      },
      "source": [
        "<a href=\"https://colab.research.google.com/github/sashapff/bioinformatics-algorithms/blob/master/alignment/global%26local.ipynb\" target=\"_parent\"><img src=\"https://colab.research.google.com/assets/colab-badge.svg\" alt=\"Open In Colab\"/></a>"
      ]
    },
    {
      "cell_type": "code",
      "metadata": {
        "id": "mSMntAbeftJF"
      },
      "source": [
        "def_value = 28\n",
        "begin_value = 4"
      ],
      "execution_count": 5,
      "outputs": []
    },
    {
      "cell_type": "code",
      "metadata": {
        "id": "dsk4gPSsga4L"
      },
      "source": [
        "scoring_matrix = [[1,-1,-1,-1,-1], \n",
        "                  [-1,1,-1,-1,-1], \n",
        "                  [-1,-1,1,-1,-1], \n",
        "                  [-1,-1,-1,1,-1], \n",
        "                  [-1,-1,-1,-1,-10**10]]\n",
        "\n",
        "toNum = {\"A\":0, \"C\":1, \"G\":2, \"T\":3, \"_\":4}"
      ],
      "execution_count": 6,
      "outputs": []
    },
    {
      "cell_type": "code",
      "metadata": {
        "id": "gTtsd1Jv9nXA"
      },
      "source": [
        "def global_build_path(f, s):\n",
        "    n = len(f) + 1\n",
        "    m = len(s) + 1\n",
        "    # 1 - up, 0 - diag, -1 - left, 28 - start\n",
        "    a = [[(0, def_value) for i in range(m)] for j in range(n)]\n",
        "    for i in range(1, n):\n",
        "        a[i][0] = (-i, 1)\n",
        "    for i in range(1, m):\n",
        "        a[0][i] = (-i, -1)\n",
        "    for i in range(1, n):\n",
        "        for j in range(1, m):\n",
        "            best = (-n - m, 0)\n",
        "            if a[i - 1][j - 1][0] > best[0]:\n",
        "                best = (a[i - 1][j - 1][0], 0)\n",
        "            if a[i - 1][j][0] > best[0]:\n",
        "                best = (a[i - 1][j][0], 1)\n",
        "            if a[i][j - 1][0] > best[0]:\n",
        "                best = (a[i][j - 1][0], -1)\n",
        "            a[i][j] = (best[0] + scoring_matrix[toNum[f[i - 1]]][toNum[s[j - 1]]], best[1])\n",
        "    return a"
      ],
      "execution_count": 7,
      "outputs": []
    },
    {
      "cell_type": "code",
      "metadata": {
        "id": "eEH6ytjD9r3b"
      },
      "source": [
        "def global_find_answer(f, s, a):\n",
        "    n = len(f) + 1\n",
        "    m = len(s) + 1\n",
        "    f_ans, s_ans = \"\", \"\"\n",
        "    cur_i = n - 1\n",
        "    cur_j = m - 1\n",
        "    while a[cur_i][cur_j][1] != def_value:\n",
        "        new_cur_i, new_cur_j = cur_i, cur_j\n",
        "        if a[cur_i][cur_j][1] == 0:\n",
        "            f_ans += f[cur_i - 1]\n",
        "            s_ans += s[cur_j - 1]\n",
        "            new_cur_i = cur_i - 1\n",
        "            new_cur_j = cur_j - 1\n",
        "        if a[cur_i][cur_j][1] == -1:\n",
        "            f_ans += '_'\n",
        "            s_ans += s[cur_j - 1]\n",
        "            new_cur_j = cur_j - 1\n",
        "        if a[cur_i][cur_j][1] == 1:\n",
        "            f_ans += f[cur_i - 1]\n",
        "            s_ans += '_'\n",
        "            new_cur_i = cur_i - 1\n",
        "        cur_i = new_cur_i\n",
        "        cur_j = new_cur_j\n",
        "    f_ans = f_ans[::-1]\n",
        "    s_ans = s_ans[::-1]\n",
        "    return (f_ans, s_ans)"
      ],
      "execution_count": 8,
      "outputs": []
    },
    {
      "cell_type": "code",
      "metadata": {
        "id": "KrYFf-5CbGhe"
      },
      "source": [
        "def local_build_path(f, s):\n",
        "    n = len(f) + 1\n",
        "    m = len(s) + 1\n",
        "    # 1 - up, 0 - diag, -1 - left, def_value - init, begin_value - start\n",
        "    a = [[(0, def_value) for i in range(m)] for j in range(n)]\n",
        "    for i in range(1, n):\n",
        "        a[i][0] = (0, 1)\n",
        "    for i in range(1, m):\n",
        "        a[0][i] = (0, -1)\n",
        "    for i in range(1, n):\n",
        "        for j in range(1, m):\n",
        "            best = (-n - m, 0)\n",
        "            if a[i - 1][j - 1][0] > best[0]:\n",
        "                best = (a[i - 1][j - 1][0], 0)\n",
        "            if a[i - 1][j][0] > best[0]:\n",
        "                best = (a[i - 1][j][0], 1)\n",
        "            if a[i][j - 1][0] > best[0]:\n",
        "                best = (a[i][j - 1][0], -1)\n",
        "            if best[0] < 0:\n",
        "                best = (0, begin_value)\n",
        "            a[i][j] = (best[0] + scoring_matrix[toNum[f[i - 1]]][toNum[s[j - 1]]], best[1])\n",
        "    return a"
      ],
      "execution_count": 9,
      "outputs": []
    },
    {
      "cell_type": "code",
      "metadata": {
        "id": "DON22yT_1Jp9"
      },
      "source": [
        "def local_find_last(a):\n",
        "    n = len(a)\n",
        "    m = len(a[0])\n",
        "    max = (n - 1, m - 1)\n",
        "    for i in range(n):\n",
        "        for j in range(m):\n",
        "          if a[i][j][0] > a[max[0]][max[1]][0]:\n",
        "            max = (i, j)\n",
        "    return max"
      ],
      "execution_count": 10,
      "outputs": []
    },
    {
      "cell_type": "code",
      "metadata": {
        "id": "fugdaaFHfOaG"
      },
      "source": [
        "def local_find_answer(f, s, a):\n",
        "    n = len(f) + 1\n",
        "    m = len(s) + 1\n",
        "    f_ans, s_ans = \"\", \"\"\n",
        "\n",
        "    cur_i, cur_j = local_find_last(a)\n",
        "\n",
        "    for i in range(n - 2, cur_i, -1):\n",
        "        f_ans += f[i]\n",
        "        s_ans += '_'\n",
        "    for j in range(m - 2, cur_j, -1):\n",
        "        f_ans += '_'\n",
        "        s_ans += s[j]\n",
        "\n",
        "    while a[cur_i][cur_j][1] != def_value:\n",
        "        new_cur_i, new_cur_j = cur_i, cur_j\n",
        "        if a[cur_i][cur_j][1] == 0:\n",
        "            f_ans += f[cur_i - 1]\n",
        "            s_ans += s[cur_j - 1]\n",
        "            new_cur_i = cur_i - 1\n",
        "            new_cur_j = cur_j - 1\n",
        "        if a[cur_i][cur_j][1] == -1:\n",
        "            f_ans += '_'\n",
        "            s_ans += s[cur_j - 1]\n",
        "            new_cur_j = cur_j - 1\n",
        "        if a[cur_i][cur_j][1] == 1:\n",
        "            f_ans += f[cur_i - 1]\n",
        "            s_ans += '_'\n",
        "            new_cur_i = cur_i - 1\n",
        "        if a[cur_i][cur_j][1] == begin_value:\n",
        "            break\n",
        "\n",
        "        cur_i = new_cur_i\n",
        "        cur_j = new_cur_j\n",
        "\n",
        "    for i in range(cur_i - 1, -1, -1):\n",
        "        f_ans += f[i]\n",
        "        s_ans += '_'\n",
        "    for j in range(cur_j - 1, -1, -1):\n",
        "        f_ans += '_'\n",
        "        s_ans += s[j]\n",
        "\n",
        "    \n",
        "    f_ans = f_ans[::-1]\n",
        "    s_ans = s_ans[::-1]\n",
        "    return (f_ans, s_ans)"
      ],
      "execution_count": 11,
      "outputs": []
    },
    {
      "cell_type": "code",
      "metadata": {
        "id": "cTYAXDu4fQDi",
        "outputId": "9a2d788c-bb47-45c1-88e7-dfa0873cf05e",
        "colab": {
          "base_uri": "https://localhost:8080/",
          "height": 194
        }
      },
      "source": [
        "f = \"ACTGAG\"\n",
        "s = \"GCTACT\"\n",
        "gf, gs = global_find_answer(f, s, global_build_path(f, s))\n",
        "lf, ls = local_find_answer(f, s, local_build_path(f, s))\n",
        "print(\"global\\n\")\n",
        "print(gf)\n",
        "print(gs)\n",
        "print(\"\\n\\nlocal\\n\")\n",
        "print(lf)\n",
        "print(ls)"
      ],
      "execution_count": 17,
      "outputs": [
        {
          "output_type": "stream",
          "text": [
            "global\n",
            "\n",
            "ACTGA_G\n",
            "GCT_ACT\n",
            "\n",
            "\n",
            "local\n",
            "\n",
            "___ACTAG\n",
            "GCTACT__\n"
          ],
          "name": "stdout"
        }
      ]
    }
  ]
}