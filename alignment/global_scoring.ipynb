{
  "nbformat": 4,
  "nbformat_minor": 0,
  "metadata": {
    "colab": {
      "name": "global.ipynb",
      "provenance": [],
      "collapsed_sections": []
    },
    "kernelspec": {
      "name": "python3",
      "display_name": "Python 3"
    }
  },
  "cells": [
    {
      "cell_type": "code",
      "metadata": {
        "id": "mSMntAbeftJF"
      },
      "source": [
        "def_value = 28"
      ],
      "execution_count": 19,
      "outputs": []
    },
    {
      "cell_type": "code",
      "metadata": {
        "id": "dsk4gPSsga4L"
      },
      "source": [
        "scoring_matrix = [[1,-1,-2,-1,-1], \n",
        "                  [-1,2,-1,-3,0], \n",
        "                  [-2,-1,1,-1,-1], \n",
        "                  [-1,-3,-1,4,-2], \n",
        "                  [-1,0,-1,-2,-10**10]]\n",
        "\n",
        "toNum = {\"A\":0, \"C\":1, \"G\":2, \"T\":3, \"_\":4}"
      ],
      "execution_count": 32,
      "outputs": []
    },
    {
      "cell_type": "code",
      "metadata": {
        "id": "KrYFf-5CbGhe"
      },
      "source": [
        "def build_path(f, s):\n",
        "    n = len(f) + 1\n",
        "    m = len(s) + 1\n",
        "    # 1 - up, 0 - diag, -1 - left, 28 - start\n",
        "    a = [[(0, def_value) for i in range(m)] for j in range(n)]\n",
        "    for i in range(1, n):\n",
        "        a[i][0] = (-i, 1)\n",
        "    for i in range(1, m):\n",
        "        a[0][i] = (-i, -1)\n",
        "    for i in range(1, n):\n",
        "        for j in range(1, m):\n",
        "            best = (-n - m, 0)\n",
        "            if a[i - 1][j - 1][0] > best[0]:\n",
        "                best = (a[i - 1][j - 1][0], 0)\n",
        "            if a[i - 1][j][0] > best[0]:\n",
        "                best = (a[i - 1][j][0], 1)\n",
        "            if a[i][j - 1][0] > best[0]:\n",
        "                best = (a[i][j - 1][0], -1)\n",
        "            a[i][j] = (best[0] + scoring_matrix[toNum[f[i - 1]]][toNum[s[j - 1]]], best[1])\n",
        "    return a"
      ],
      "execution_count": 33,
      "outputs": []
    },
    {
      "cell_type": "code",
      "metadata": {
        "id": "fugdaaFHfOaG"
      },
      "source": [
        "def find_answer(f, s, a):\n",
        "    n = len(f) + 1\n",
        "    m = len(s) + 1\n",
        "    f_ans, s_ans = \"\", \"\"\n",
        "    cur_i = n - 1\n",
        "    cur_j = m - 1\n",
        "    while a[cur_i][cur_j][1] != def_value:\n",
        "        new_cur_i, new_cur_j = cur_i, cur_j\n",
        "        if a[cur_i][cur_j][1] == 0:\n",
        "            f_ans += f[cur_i - 1]\n",
        "            s_ans += s[cur_j - 1]\n",
        "            new_cur_i = cur_i - 1\n",
        "            new_cur_j = cur_j - 1\n",
        "        if a[cur_i][cur_j][1] == -1:\n",
        "            f_ans += '_'\n",
        "            s_ans += s[cur_j - 1]\n",
        "            new_cur_j = cur_j - 1\n",
        "        if a[cur_i][cur_j][1] == 1:\n",
        "            f_ans += f[cur_i - 1]\n",
        "            s_ans += '_'\n",
        "            new_cur_i = cur_i - 1\n",
        "        cur_i = new_cur_i\n",
        "        cur_j = new_cur_j\n",
        "    f_ans = f_ans[::-1]\n",
        "    s_ans = s_ans[::-1]\n",
        "    return (f_ans, s_ans)"
      ],
      "execution_count": 34,
      "outputs": []
    },
    {
      "cell_type": "code",
      "metadata": {
        "id": "cTYAXDu4fQDi",
        "outputId": "cf96b671-6954-47fe-dc53-c21d98ed6ccc",
        "colab": {
          "base_uri": "https://localhost:8080/",
          "height": 34
        }
      },
      "source": [
        "f = \"GAACATGCA\"\n",
        "s = \"CATTGTAAC\"\n",
        "find_answer(f, s, build_path(f, s))"
      ],
      "execution_count": 35,
      "outputs": [
        {
          "output_type": "execute_result",
          "data": {
            "text/plain": [
              "('GAACAT___GCA__', 'CA___TTGT_A_AC')"
            ]
          },
          "metadata": {
            "tags": []
          },
          "execution_count": 35
        }
      ]
    },
    {
      "cell_type": "code",
      "metadata": {
        "id": "ZDQvIXpzpEuv",
        "outputId": "335f2183-01e7-4027-dc5c-bd83e1d2e53f",
        "colab": {
          "base_uri": "https://localhost:8080/",
          "height": 34
        }
      },
      "source": [
        "scoring_matrix[2][3] = -4\n",
        "scoring_matrix[3][2] = -4\n",
        "find_answer(f, s, build_path(f, s))"
      ],
      "execution_count": 37,
      "outputs": [
        {
          "output_type": "execute_result",
          "data": {
            "text/plain": [
              "('GAACAT_GCA___', 'CA___TTG_TAAC')"
            ]
          },
          "metadata": {
            "tags": []
          },
          "execution_count": 37
        }
      ]
    }
  ]
}